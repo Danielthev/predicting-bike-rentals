{
 "cells": [
  {
   "cell_type": "markdown",
   "metadata": {},
   "source": [
    "# Predicting Bike Rentals in Washington D.C.\n",
    "\n"
   ]
  },
  {
   "cell_type": "markdown",
   "metadata": {},
   "source": [
    "### Introduction\n",
    "\n",
    "In the United States, many cities have bike sharing systems in place. One such city is Washington D.C., and in this project, I attempt to predict the total number of bikes people rented in a given hour. To accomplish this task, I explore several machine learning techniques to determine an effective prediction model. The techniques used in this project include the linear regression, decision tree, and random forest. The data used in this project was assembled by Hadi Fanaee - T, and it can be accessed through the [UCI Machine Learning Repository](http://archive.ics.uci.edu/ml/datasets/Bike+Sharing+Dataset). \n",
    "\n",
    "I begin by reading in the data:"
   ]
  },
  {
   "cell_type": "code",
   "execution_count": 1,
   "metadata": {
    "scrolled": true
   },
   "outputs": [
    {
     "data": {
      "text/html": [
       "<div>\n",
       "<style scoped>\n",
       "    .dataframe tbody tr th:only-of-type {\n",
       "        vertical-align: middle;\n",
       "    }\n",
       "\n",
       "    .dataframe tbody tr th {\n",
       "        vertical-align: top;\n",
       "    }\n",
       "\n",
       "    .dataframe thead th {\n",
       "        text-align: right;\n",
       "    }\n",
       "</style>\n",
       "<table border=\"1\" class=\"dataframe\">\n",
       "  <thead>\n",
       "    <tr style=\"text-align: right;\">\n",
       "      <th></th>\n",
       "      <th>instant</th>\n",
       "      <th>dteday</th>\n",
       "      <th>season</th>\n",
       "      <th>yr</th>\n",
       "      <th>mnth</th>\n",
       "      <th>hr</th>\n",
       "      <th>holiday</th>\n",
       "      <th>weekday</th>\n",
       "      <th>workingday</th>\n",
       "      <th>weathersit</th>\n",
       "      <th>temp</th>\n",
       "      <th>atemp</th>\n",
       "      <th>hum</th>\n",
       "      <th>windspeed</th>\n",
       "      <th>casual</th>\n",
       "      <th>registered</th>\n",
       "      <th>cnt</th>\n",
       "    </tr>\n",
       "  </thead>\n",
       "  <tbody>\n",
       "    <tr>\n",
       "      <th>0</th>\n",
       "      <td>1</td>\n",
       "      <td>2011-01-01</td>\n",
       "      <td>1</td>\n",
       "      <td>0</td>\n",
       "      <td>1</td>\n",
       "      <td>0</td>\n",
       "      <td>0</td>\n",
       "      <td>6</td>\n",
       "      <td>0</td>\n",
       "      <td>1</td>\n",
       "      <td>0.24</td>\n",
       "      <td>0.2879</td>\n",
       "      <td>0.81</td>\n",
       "      <td>0.0</td>\n",
       "      <td>3</td>\n",
       "      <td>13</td>\n",
       "      <td>16</td>\n",
       "    </tr>\n",
       "    <tr>\n",
       "      <th>1</th>\n",
       "      <td>2</td>\n",
       "      <td>2011-01-01</td>\n",
       "      <td>1</td>\n",
       "      <td>0</td>\n",
       "      <td>1</td>\n",
       "      <td>1</td>\n",
       "      <td>0</td>\n",
       "      <td>6</td>\n",
       "      <td>0</td>\n",
       "      <td>1</td>\n",
       "      <td>0.22</td>\n",
       "      <td>0.2727</td>\n",
       "      <td>0.80</td>\n",
       "      <td>0.0</td>\n",
       "      <td>8</td>\n",
       "      <td>32</td>\n",
       "      <td>40</td>\n",
       "    </tr>\n",
       "    <tr>\n",
       "      <th>2</th>\n",
       "      <td>3</td>\n",
       "      <td>2011-01-01</td>\n",
       "      <td>1</td>\n",
       "      <td>0</td>\n",
       "      <td>1</td>\n",
       "      <td>2</td>\n",
       "      <td>0</td>\n",
       "      <td>6</td>\n",
       "      <td>0</td>\n",
       "      <td>1</td>\n",
       "      <td>0.22</td>\n",
       "      <td>0.2727</td>\n",
       "      <td>0.80</td>\n",
       "      <td>0.0</td>\n",
       "      <td>5</td>\n",
       "      <td>27</td>\n",
       "      <td>32</td>\n",
       "    </tr>\n",
       "    <tr>\n",
       "      <th>3</th>\n",
       "      <td>4</td>\n",
       "      <td>2011-01-01</td>\n",
       "      <td>1</td>\n",
       "      <td>0</td>\n",
       "      <td>1</td>\n",
       "      <td>3</td>\n",
       "      <td>0</td>\n",
       "      <td>6</td>\n",
       "      <td>0</td>\n",
       "      <td>1</td>\n",
       "      <td>0.24</td>\n",
       "      <td>0.2879</td>\n",
       "      <td>0.75</td>\n",
       "      <td>0.0</td>\n",
       "      <td>3</td>\n",
       "      <td>10</td>\n",
       "      <td>13</td>\n",
       "    </tr>\n",
       "    <tr>\n",
       "      <th>4</th>\n",
       "      <td>5</td>\n",
       "      <td>2011-01-01</td>\n",
       "      <td>1</td>\n",
       "      <td>0</td>\n",
       "      <td>1</td>\n",
       "      <td>4</td>\n",
       "      <td>0</td>\n",
       "      <td>6</td>\n",
       "      <td>0</td>\n",
       "      <td>1</td>\n",
       "      <td>0.24</td>\n",
       "      <td>0.2879</td>\n",
       "      <td>0.75</td>\n",
       "      <td>0.0</td>\n",
       "      <td>0</td>\n",
       "      <td>1</td>\n",
       "      <td>1</td>\n",
       "    </tr>\n",
       "  </tbody>\n",
       "</table>\n",
       "</div>"
      ],
      "text/plain": [
       "   instant      dteday  season  yr  mnth  hr  holiday  weekday  workingday  \\\n",
       "0        1  2011-01-01       1   0     1   0        0        6           0   \n",
       "1        2  2011-01-01       1   0     1   1        0        6           0   \n",
       "2        3  2011-01-01       1   0     1   2        0        6           0   \n",
       "3        4  2011-01-01       1   0     1   3        0        6           0   \n",
       "4        5  2011-01-01       1   0     1   4        0        6           0   \n",
       "\n",
       "   weathersit  temp   atemp   hum  windspeed  casual  registered  cnt  \n",
       "0           1  0.24  0.2879  0.81        0.0       3          13   16  \n",
       "1           1  0.22  0.2727  0.80        0.0       8          32   40  \n",
       "2           1  0.22  0.2727  0.80        0.0       5          27   32  \n",
       "3           1  0.24  0.2879  0.75        0.0       3          10   13  \n",
       "4           1  0.24  0.2879  0.75        0.0       0           1    1  "
      ]
     },
     "execution_count": 1,
     "metadata": {},
     "output_type": "execute_result"
    }
   ],
   "source": [
    "import pandas as pd\n",
    "\n",
    "bike_rentals = pd.read_csv(r'C:\\Users\\Daniel\\Desktop\\hour.csv')\n",
    "bike_rentals.head()"
   ]
  },
  {
   "cell_type": "markdown",
   "metadata": {},
   "source": [
    "Where the columns are defined as the following:\n",
    "\n",
    "<font color='maroon'>instant</font> - A unique sequential ID number for each row<br>\n",
    "<font color='maroon'>dteday</font> - The date of the rentals<br>\n",
    "<font color='maroon'>season</font> - The season in which the rentals occurred<br>\n",
    "<font color='maroon'>yr</font> - The year the rentals occurred<br>\n",
    "<font color='maroon'>mnth</font> - The month the rentals occurred<br>\n",
    "<font color='maroon'>hr</font> - The hour the rentals occurred<br>\n",
    "<font color='maroon'>holiday</font> - Whether or not the day was a holiday<br>\n",
    "<font color='maroon'>weekday</font> - The day of the week (as a number, 0 to 7)<br>\n",
    "<font color='maroon'>workingday</font> - Whether or not the day was a working day<br>\n",
    "<font color='maroon'>weathersit</font> - The weather (as a categorical variable)<br>\n",
    "<font color='maroon'>temp</font> - The temperature, on a 0-1 scale<br>\n",
    "<font color='maroon'>atemp</font> - The adjusted temperature<br>\n",
    "<font color='maroon'>hum</font> - The humidity, on a 0-1 scale<br>\n",
    "<font color='maroon'>windspeed</font> - The wind speed, on a 0-1 scale<br>\n",
    "<font color='maroon'>casual</font> - The number of casual riders (people who hadn't previously signed up with the bike sharing program)<br>\n",
    "<font color='maroon'>registered</font> - The number of registered riders (people who had already signed up)<br>\n",
    "<font color='maroon'>cnt</font> - The total number of bike rentals (casual + registered)<br>"
   ]
  },
  {
   "cell_type": "markdown",
   "metadata": {},
   "source": [
    "### Data Exploration\n",
    "\n",
    "I then explored the data by building a histogram of the cnt column and performing a correlation analysis between cnt and the other variables. The histogram shows us the distribution of a given variable, while the set of correlations will provide a good understanding of the unconditional association between cnt and the other variables. "
   ]
  },
  {
   "cell_type": "markdown",
   "metadata": {},
   "source": [
    "The histogram shows that the data are right skewed and there doesn't seem to be any noticeable outliers."
   ]
  },
  {
   "cell_type": "code",
   "execution_count": 2,
   "metadata": {},
   "outputs": [
    {
     "data": {
      "text/plain": [
       "Text(0, 0.5, 'Frequency')"
      ]
     },
     "execution_count": 2,
     "metadata": {},
     "output_type": "execute_result"
    },
    {
     "data": {
      "image/png": "[encoded data removed]",
      "text/plain": [
       "<Figure size 432x288 with 1 Axes>"
      ]
     },
     "metadata": {
      "needs_background": "light"
     },
     "output_type": "display_data"
    }
   ],
   "source": [
    "import matplotlib.pyplot as plt\n",
    "\n",
    "plt.hist(bike_rentals['cnt'], edgecolor = 'white', linewidth = 1.2)\n",
    "plt.title('Distribution of cnt')\n",
    "plt.xlabel('Total Number of Bike Rentals per Hour (cnt)')\n",
    "plt.ylabel('Frequency')"
   ]
  },
  {
   "cell_type": "markdown",
   "metadata": {},
   "source": [
    "In the set of correlations below, I saw that the relevant variables with relatively higher correlations include season, yr, mnth, hr, weathersit, temp, and hum. Although holiday, weekday, workingday, and windspeed have weaker correlations with cnt, intuitively, it made sense to include these variables in our models. \n",
    "\n",
    "The rest of the variables were ignored for the following reasons:\n",
    "\n",
    "1. casual and registered: The sum of these two variables make up cnt\n",
    "2. atemp: This variable is a modified version of the temp variable\n",
    "3. instant: This variable is ordinal in nature "
   ]
  },
  {
   "cell_type": "code",
   "execution_count": 3,
   "metadata": {},
   "outputs": [
    {
     "data": {
      "text/plain": [
       "instant       0.278379\n",
       "season        0.178056\n",
       "yr            0.250495\n",
       "mnth          0.120638\n",
       "hr            0.394071\n",
       "holiday      -0.030927\n",
       "weekday       0.026900\n",
       "workingday    0.030284\n",
       "weathersit   -0.142426\n",
       "temp          0.404772\n",
       "atemp         0.400929\n",
       "hum          -0.322911\n",
       "windspeed     0.093234\n",
       "casual        0.694564\n",
       "registered    0.972151\n",
       "cnt           1.000000\n",
       "Name: cnt, dtype: float64"
      ]
     },
     "execution_count": 3,
     "metadata": {},
     "output_type": "execute_result"
    }
   ],
   "source": [
    "bike_rentals.corr()['cnt']"
   ]
  },
  {
   "cell_type": "markdown",
   "metadata": {},
   "source": [
    "### Data Cleaning\n",
    "\n",
    "In this dataset, the hour (hr) column can be misinterpreted by the machine. I wanted the machine to understand that certain ranges of hours indicate different parts of the day, such as morning, afternoon, evening, and night. So, I created a separate column, time_label, that includes this distinction. "
   ]
  },
  {
   "cell_type": "code",
   "execution_count": 4,
   "metadata": {},
   "outputs": [
    {
     "data": {
      "text/html": [
       "<div>\n",
       "<style scoped>\n",
       "    .dataframe tbody tr th:only-of-type {\n",
       "        vertical-align: middle;\n",
       "    }\n",
       "\n",
       "    .dataframe tbody tr th {\n",
       "        vertical-align: top;\n",
       "    }\n",
       "\n",
       "    .dataframe thead th {\n",
       "        text-align: right;\n",
       "    }\n",
       "</style>\n",
       "<table border=\"1\" class=\"dataframe\">\n",
       "  <thead>\n",
       "    <tr style=\"text-align: right;\">\n",
       "      <th></th>\n",
       "      <th>instant</th>\n",
       "      <th>dteday</th>\n",
       "      <th>season</th>\n",
       "      <th>yr</th>\n",
       "      <th>mnth</th>\n",
       "      <th>hr</th>\n",
       "      <th>holiday</th>\n",
       "      <th>weekday</th>\n",
       "      <th>workingday</th>\n",
       "      <th>weathersit</th>\n",
       "      <th>temp</th>\n",
       "      <th>atemp</th>\n",
       "      <th>hum</th>\n",
       "      <th>windspeed</th>\n",
       "      <th>casual</th>\n",
       "      <th>registered</th>\n",
       "      <th>cnt</th>\n",
       "      <th>time_label</th>\n",
       "    </tr>\n",
       "  </thead>\n",
       "  <tbody>\n",
       "    <tr>\n",
       "      <th>0</th>\n",
       "      <td>1</td>\n",
       "      <td>2011-01-01</td>\n",
       "      <td>1</td>\n",
       "      <td>0</td>\n",
       "      <td>1</td>\n",
       "      <td>0</td>\n",
       "      <td>0</td>\n",
       "      <td>6</td>\n",
       "      <td>0</td>\n",
       "      <td>1</td>\n",
       "      <td>0.24</td>\n",
       "      <td>0.2879</td>\n",
       "      <td>0.81</td>\n",
       "      <td>0.0</td>\n",
       "      <td>3</td>\n",
       "      <td>13</td>\n",
       "      <td>16</td>\n",
       "      <td>4</td>\n",
       "    </tr>\n",
       "    <tr>\n",
       "      <th>1</th>\n",
       "      <td>2</td>\n",
       "      <td>2011-01-01</td>\n",
       "      <td>1</td>\n",
       "      <td>0</td>\n",
       "      <td>1</td>\n",
       "      <td>1</td>\n",
       "      <td>0</td>\n",
       "      <td>6</td>\n",
       "      <td>0</td>\n",
       "      <td>1</td>\n",
       "      <td>0.22</td>\n",
       "      <td>0.2727</td>\n",
       "      <td>0.80</td>\n",
       "      <td>0.0</td>\n",
       "      <td>8</td>\n",
       "      <td>32</td>\n",
       "      <td>40</td>\n",
       "      <td>4</td>\n",
       "    </tr>\n",
       "    <tr>\n",
       "      <th>2</th>\n",
       "      <td>3</td>\n",
       "      <td>2011-01-01</td>\n",
       "      <td>1</td>\n",
       "      <td>0</td>\n",
       "      <td>1</td>\n",
       "      <td>2</td>\n",
       "      <td>0</td>\n",
       "      <td>6</td>\n",
       "      <td>0</td>\n",
       "      <td>1</td>\n",
       "      <td>0.22</td>\n",
       "      <td>0.2727</td>\n",
       "      <td>0.80</td>\n",
       "      <td>0.0</td>\n",
       "      <td>5</td>\n",
       "      <td>27</td>\n",
       "      <td>32</td>\n",
       "      <td>4</td>\n",
       "    </tr>\n",
       "    <tr>\n",
       "      <th>3</th>\n",
       "      <td>4</td>\n",
       "      <td>2011-01-01</td>\n",
       "      <td>1</td>\n",
       "      <td>0</td>\n",
       "      <td>1</td>\n",
       "      <td>3</td>\n",
       "      <td>0</td>\n",
       "      <td>6</td>\n",
       "      <td>0</td>\n",
       "      <td>1</td>\n",
       "      <td>0.24</td>\n",
       "      <td>0.2879</td>\n",
       "      <td>0.75</td>\n",
       "      <td>0.0</td>\n",
       "      <td>3</td>\n",
       "      <td>10</td>\n",
       "      <td>13</td>\n",
       "      <td>4</td>\n",
       "    </tr>\n",
       "    <tr>\n",
       "      <th>4</th>\n",
       "      <td>5</td>\n",
       "      <td>2011-01-01</td>\n",
       "      <td>1</td>\n",
       "      <td>0</td>\n",
       "      <td>1</td>\n",
       "      <td>4</td>\n",
       "      <td>0</td>\n",
       "      <td>6</td>\n",
       "      <td>0</td>\n",
       "      <td>1</td>\n",
       "      <td>0.24</td>\n",
       "      <td>0.2879</td>\n",
       "      <td>0.75</td>\n",
       "      <td>0.0</td>\n",
       "      <td>0</td>\n",
       "      <td>1</td>\n",
       "      <td>1</td>\n",
       "      <td>4</td>\n",
       "    </tr>\n",
       "  </tbody>\n",
       "</table>\n",
       "</div>"
      ],
      "text/plain": [
       "   instant      dteday  season  yr  mnth  hr  holiday  weekday  workingday  \\\n",
       "0        1  2011-01-01       1   0     1   0        0        6           0   \n",
       "1        2  2011-01-01       1   0     1   1        0        6           0   \n",
       "2        3  2011-01-01       1   0     1   2        0        6           0   \n",
       "3        4  2011-01-01       1   0     1   3        0        6           0   \n",
       "4        5  2011-01-01       1   0     1   4        0        6           0   \n",
       "\n",
       "   weathersit  temp   atemp   hum  windspeed  casual  registered  cnt  \\\n",
       "0           1  0.24  0.2879  0.81        0.0       3          13   16   \n",
       "1           1  0.22  0.2727  0.80        0.0       8          32   40   \n",
       "2           1  0.22  0.2727  0.80        0.0       5          27   32   \n",
       "3           1  0.24  0.2879  0.75        0.0       3          10   13   \n",
       "4           1  0.24  0.2879  0.75        0.0       0           1    1   \n",
       "\n",
       "   time_label  \n",
       "0           4  \n",
       "1           4  \n",
       "2           4  \n",
       "3           4  \n",
       "4           4  "
      ]
     },
     "execution_count": 4,
     "metadata": {},
     "output_type": "execute_result"
    }
   ],
   "source": [
    "def assign_label(unit_hr):\n",
    "        if unit_hr >= 0 and unit_hr < 6:\n",
    "            return 4\n",
    "        elif unit_hr >= 6 and unit_hr < 12:\n",
    "            return 1\n",
    "        elif unit_hr >= 12 and unit_hr < 18:\n",
    "            return 2\n",
    "        elif unit_hr >= 18 and unit_hr <= 24:\n",
    "            return 3    \n",
    "\n",
    "bike_rentals['time_label'] = bike_rentals['hr'].apply(assign_label)\n",
    "bike_rentals.head()"
   ]
  },
  {
   "cell_type": "markdown",
   "metadata": {},
   "source": [
    "### Creating Training and Testing Sets\n",
    "\n",
    "Now that the data has been cleaned, I created a training set that has 80% of the observations and a testing set that is comprised of the reminaing 20%."
   ]
  },
  {
   "cell_type": "code",
   "execution_count": 5,
   "metadata": {
    "scrolled": true
   },
   "outputs": [
    {
     "name": "stdout",
     "output_type": "stream",
     "text": [
      "(13903, 18)\n",
      "(3476, 18)\n"
     ]
    }
   ],
   "source": [
    "train = bike_rentals.sample(frac = 0.8, random_state = 1)\n",
    "test = bike_rentals.loc[~bike_rentals.index.isin(train.index)]\n",
    "\n",
    "print(train.shape)\n",
    "print(test.shape)"
   ]
  },
  {
   "cell_type": "markdown",
   "metadata": {},
   "source": [
    "## Machine Learning Models"
   ]
  },
  {
   "cell_type": "markdown",
   "metadata": {},
   "source": [
    "### Linear Regression \n",
    "\n",
    "The first model I built is the linear regression. I started by initiating a list of the columns in our dataset that I'll use for all the models. From that list, I then remove the variables that I described earlier were not relevant for prediction. Having all the components for the regression, I trained the model on the training set, and then predicted labels in the testing set.\n",
    "\n",
    "Notice that I calculated the mean squared error (MSE). I included an error metric to evaluate the precision of my models."
   ]
  },
  {
   "cell_type": "code",
   "execution_count": 32,
   "metadata": {},
   "outputs": [
    {
     "data": {
      "text/plain": [
       "LinearRegression(copy_X=True, fit_intercept=True, n_jobs=None, normalize=False)"
      ]
     },
     "execution_count": 32,
     "metadata": {},
     "output_type": "execute_result"
    }
   ],
   "source": [
    "from sklearn.linear_model import LinearRegression\n",
    "from sklearn.metrics import mean_squared_error\n",
    "\n",
    "predictors = list(train.columns)\n",
    "predictors.remove('dteday')\n",
    "predictors.remove('casual')\n",
    "predictors.remove('registered')\n",
    "predictors.remove('cnt')\n",
    "predictors.remove('instant')\n",
    "predictors.remove('atemp')\n",
    "\n",
    "reg = LinearRegression()\n",
    "reg.fit(train[predictors], train['cnt'])"
   ]
  },
  {
   "cell_type": "code",
   "execution_count": 33,
   "metadata": {},
   "outputs": [
    {
     "data": {
      "text/plain": [
       "17091.349737316126"
      ]
     },
     "execution_count": 33,
     "metadata": {},
     "output_type": "execute_result"
    }
   ],
   "source": [
    "test_predictions = reg.predict(test[predictors])\n",
    "\n",
    "mean_squared_error(test['cnt'], test_predictions)"
   ]
  },
  {
   "cell_type": "markdown",
   "metadata": {},
   "source": [
    "### Decision Tree\n",
    "\n",
    "The second model that I built is the decision tree. The decision tree can be used for both classification and regression problems. The problem with the decision tree is that it is prone to overfitting. The issue with an overfitting model is that it becomes less generalizable. So, to tackle this issue, I built a for-loop to test several values for the min_samples_leaf parameter to determine which value yields the least error.\n",
    "\n",
    "The decision tree's predictions were better than that of the linear regression, and of the different values for the min_samples_leaf parameter, the value of 9 was optimal. This value produced an MSE of 2900.42."
   ]
  },
  {
   "cell_type": "code",
   "execution_count": 34,
   "metadata": {},
   "outputs": [
    {
     "name": "stdout",
     "output_type": "stream",
     "text": [
      "The mean squared error using a min_samples_leaf value of 1 is 3702.3895281933255\n",
      "The mean squared error using a min_samples_leaf value of 2 is 3194.2686836721646\n",
      "The mean squared error using a min_samples_leaf value of 3 is 3200.3710573296253\n",
      "The mean squared error using a min_samples_leaf value of 4 is 3134.592705856029\n",
      "The mean squared error using a min_samples_leaf value of 5 is 2967.3464579696442\n",
      "The mean squared error using a min_samples_leaf value of 6 is 2864.759217062146\n",
      "The mean squared error using a min_samples_leaf value of 7 is 2904.8605318161217\n",
      "The mean squared error using a min_samples_leaf value of 8 is 2906.230280479011\n",
      "The mean squared error using a min_samples_leaf value of 9 is 2900.4229746223677\n",
      "The mean squared error using a min_samples_leaf value of 10 is 2920.6582614043996\n"
     ]
    }
   ],
   "source": [
    "from sklearn.tree import DecisionTreeRegressor\n",
    "\n",
    "for samples_leaf in [1, 2, 3, 4, 5, 6, 7, 8, 9, 10]:\n",
    "    dt = DecisionTreeRegressor(random_state = 1, min_samples_leaf = samples_leaf)\n",
    "    dt.fit(train[predictors], train['cnt'])\n",
    "    dt_predictions = dt.predict(test[predictors])\n",
    "    dt_mse = mean_squared_error(test['cnt'], dt_predictions)\n",
    "    print('The mean squared error using a min_samples_leaf value of', samples_leaf,'is', dt_mse)"
   ]
  },
  {
   "cell_type": "markdown",
   "metadata": {},
   "source": [
    "### Random Forest\n",
    "\n",
    "Finally, I built the random forest model. The random forest model is an ensemble technique that combines the results of a group of trees. In my model, I went with the default number of trees - 10. This is another way of dealing with possible overfitting from a single decision tree. Similar to the decision tree, I built a for-loop for this method as well. \n",
    "\n",
    "Overall, the random forest model yielded better predictions than the decision tree. For this method, a min_samples_leaf value of 2 was optimal, which produced an MSE value of 1974.41."
   ]
  },
  {
   "cell_type": "code",
   "execution_count": 35,
   "metadata": {
    "scrolled": true
   },
   "outputs": [
    {
     "name": "stdout",
     "output_type": "stream",
     "text": [
      "The mean squared error using a min_samples_leaf value of 1 is 1989.33002572768\n",
      "The mean squared error using a min_samples_leaf value of 2 is 1974.410541305359\n",
      "The mean squared error using a min_samples_leaf value of 3 is 2044.2836077036457\n",
      "The mean squared error using a min_samples_leaf value of 4 is 2119.2614531008885\n",
      "The mean squared error using a min_samples_leaf value of 5 is 2180.213363568855\n",
      "The mean squared error using a min_samples_leaf value of 6 is 2235.889044924815\n",
      "The mean squared error using a min_samples_leaf value of 7 is 2315.4165270721273\n",
      "The mean squared error using a min_samples_leaf value of 8 is 2390.603592792489\n",
      "The mean squared error using a min_samples_leaf value of 9 is 2476.2865500669077\n",
      "The mean squared error using a min_samples_leaf value of 10 is 2551.8479230158714\n"
     ]
    }
   ],
   "source": [
    "from sklearn.ensemble import RandomForestRegressor\n",
    "\n",
    "for samples_leaf in [1, 2, 3, 4, 5, 6, 7, 8, 9, 10]:\n",
    "    rdf = RandomForestRegressor(random_state = 1, min_samples_leaf = samples_leaf)\n",
    "    rdf.fit(train[predictors], train['cnt'])\n",
    "    rdf_predictions = rdf.predict(test[predictors])\n",
    "    rdf_mse = mean_squared_error(test['cnt'], rdf_predictions)\n",
    "    print('The mean squared error using a min_samples_leaf value of', samples_leaf,'is', rdf_mse)"
   ]
  },
  {
   "cell_type": "markdown",
   "metadata": {},
   "source": [
    "### Conclusion\n",
    "\n"
   ]
  },
  {
   "cell_type": "markdown",
   "metadata": {},
   "source": [
    "In this project, I built three machine learning models to predict the total number of bikes rented in a given hour. After having evaluated the three models using the MSE error metric, I determined that the random forest model had the best predictive power. It was able to reduce any overfitting that the decision tree is prone to while producing more accurate results. "
   ]
  }
 ],
 "metadata": {
  "kernelspec": {
   "display_name": "Python 3",
   "language": "python",
   "name": "python3"
  },
  "language_info": {
   "codemirror_mode": {
    "name": "ipython",
    "version": 3
   },
   "file_extension": ".py",
   "mimetype": "text/x-python",
   "name": "python",
   "nbconvert_exporter": "python",
   "pygments_lexer": "ipython3",
   "version": "3.7.6"
  }
 },
 "nbformat": 4,
 "nbformat_minor": 4
}
